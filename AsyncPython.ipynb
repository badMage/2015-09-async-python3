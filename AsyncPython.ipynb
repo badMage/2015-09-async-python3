{
 "cells": [
  {
   "cell_type": "markdown",
   "metadata": {
    "collapsed": false,
    "slideshow": {
     "slide_type": "slide"
    }
   },
   "source": [
    "# асинхронно програмиране с Python 3\n",
    "\n",
    "&nbsp;\n",
    "\n",
    "&nbsp;\n",
    "\n",
    "> [http://bit.ly/async-python](http://bit.ly/async-python)"
   ]
  },
  {
   "cell_type": "markdown",
   "metadata": {
    "slideshow": {
     "slide_type": "slide"
    }
   },
   "source": [
    "![How to draw a horse?](resources/how-to-draw-a-horse.jpg)\n",
    "> Van Oktop, много наблюдателен човек"
   ]
  },
  {
   "cell_type": "markdown",
   "metadata": {
    "slideshow": {
     "slide_type": "slide"
    }
   },
   "source": [
    "## да започнем с пример\n",
    "\n",
    "&nbsp;\n",
    "\n",
    "\n",
    "> Какви webservers използват популярните портали в България?\n",
    "\n",
    "&nbsp;\n",
    "\n",
    "Крайна цел:\n",
    "``` python\n",
    "{'Apache': 34, 'nginx': 31, . . . .}\n",
    "```\n",
    "\n",
    "&nbsp;\n",
    "\n",
    "[http://bit.ly/async-python](http://bit.ly/async-python)"
   ]
  },
  {
   "cell_type": "markdown",
   "metadata": {
    "slideshow": {
     "slide_type": "subslide"
    }
   },
   "source": [
    "### нещо такова \n",
    "\n",
    "&nbsp;\n",
    "\n",
    "``` python\n",
    "@pseudo_code\n",
    "def main():\n",
    "  for host in hosts:\n",
    "    connection = connect_to_server(host)\n",
    "    connection.send_request(...)\n",
    "    response = connection.receive(...)\n",
    "    server = detect_webserver(response)\n",
    "    count_server(server)\n",
    "  print(web_server_counts)\n",
    "```"
   ]
  },
  {
   "cell_type": "markdown",
   "metadata": {
    "slideshow": {
     "slide_type": "subslide"
    }
   },
   "source": [
    "#### малко подготовка"
   ]
  },
  {
   "cell_type": "code",
   "execution_count": 124,
   "metadata": {
    "collapsed": true
   },
   "outputs": [],
   "source": [
    "PROJECT_PATH = '/Users/boris/Work/softuni/2015-09-AsyncPython/source/asyncio'\n",
    "import sys; sys.path.insert(0, PROJECT_PATH)\n",
    "import re\n",
    "import os\n",
    "\n",
    "HTTP_REQUEST_TEMPLATE = 'OPTIONS / HTTP/1.1\\nHost: {}\\nConnection: close\\n\\n'\n",
    "RE_SERVER = re.compile(r'Server: (.+?)[/\\r\\n]', re.I)\n",
    "\n",
    "def get_hosts():\n",
    "    with open(PROJECT_PATH + '/bgsites.txt', 'r') as f:\n",
    "        for host in f:\n",
    "            host = host.strip()\n",
    "            if not host.startswith('#'):\n",
    "                yield host\n",
    "\n",
    "def detect_webserver_from_response(http_response: bytes) -> str:\n",
    "    http_response = http_response.decode(errors='ignore') if isinstance(http_response, bytes) else http_response\n",
    "    found_server = RE_SERVER.findall(http_response)\n",
    "    return found_server[0] if found_server else None\n"
   ]
  },
  {
   "cell_type": "markdown",
   "metadata": {
    "slideshow": {
     "slide_type": "subslide"
    }
   },
   "source": [
    "#### Последователно изпълнение"
   ]
  },
  {
   "cell_type": "code",
   "execution_count": 125,
   "metadata": {
    "collapsed": false,
    "scrolled": false,
    "slideshow": {
     "slide_type": "-"
    }
   },
   "outputs": [],
   "source": [
    "import socket\n",
    "import time\n",
    "from collections import Counter\n",
    "\n",
    "def main_sequential():\n",
    "    webservers = Counter()\n",
    "    t = time.time()\n",
    "    for host in get_hosts():\n",
    "        connection = socket.create_connection((host, 80), timeout=5)\n",
    "        http_request_string = HTTP_REQUEST_TEMPLATE.format(host)\n",
    "        connection.send(http_request_string.encode())\n",
    "        response = connection.recv(2048)\n",
    "        server = detect_webserver_from_response(response)\n",
    "        webservers[server] += 1\n",
    "        print(\"Completed: {}\".format(host))\n",
    "\n",
    "    print(\"Done in {}sec\".format(time.time() - t))\n",
    "    print(str(webservers))"
   ]
  },
  {
   "cell_type": "code",
   "execution_count": null,
   "metadata": {
    "collapsed": true
   },
   "outputs": [],
   "source": [
    "main_sequential()"
   ]
  },
  {
   "cell_type": "markdown",
   "metadata": {
    "slideshow": {
     "slide_type": "subslide"
    }
   },
   "source": [
    "![последователно изпълнение](resources/diagram-tasks-sequential.png)"
   ]
  },
  {
   "cell_type": "markdown",
   "metadata": {
    "slideshow": {
     "slide_type": "subslide"
    }
   },
   "source": [
    "### можем ли да се справим по-добре?"
   ]
  },
  {
   "cell_type": "markdown",
   "metadata": {
    "slideshow": {
     "slide_type": "fragment"
    }
   },
   "source": [
    "&nbsp;\n",
    "\n",
    "threads?"
   ]
  },
  {
   "cell_type": "markdown",
   "metadata": {
    "slideshow": {
     "slide_type": "fragment"
    }
   },
   "source": [
    "![използване на threads](resources/diagram-tasks-threaded.png)"
   ]
  },
  {
   "cell_type": "code",
   "execution_count": null,
   "metadata": {
    "collapsed": false,
    "slideshow": {
     "slide_type": "subslide"
    }
   },
   "outputs": [],
   "source": [
    "import socket\n",
    "import time\n",
    "import threading\n",
    "from collections import Counter\n",
    "\n",
    "def main_threads():\n",
    "    webservers = Counter()\n",
    "    t = time.time()\n",
    "    threads = []\n",
    "    for host in get_hosts():\n",
    "        thread = threading.Thread(target=get_webserver_for_host, args=(host, webservers))\n",
    "        thread.start()\n",
    "        threads.append(thread)\n",
    "\n",
    "    for thread in threads:\n",
    "        thread.join()\n",
    "    print(\"Done in {}sec\".format(time.time() - t))\n",
    "    print(str(webservers))\n",
    "\n",
    "def get_webserver_for_host(hostname: str, webservers: Counter):\n",
    "    connection = socket.create_connection((hostname, 80), timeout=5)\n",
    "    http_request_string = HTTP_REQUEST_TEMPLATE.format(hostname)\n",
    "    connection.send(http_request_string.encode())\n",
    "    result = connection.recv(2048)\n",
    "    server = detect_webserver_from_response(result)\n",
    "    webservers[server] += 1\n",
    "    connection.close()\n",
    "    print(\"Completed: {}\".format(hostname))"
   ]
  },
  {
   "cell_type": "code",
   "execution_count": null,
   "metadata": {
    "collapsed": true
   },
   "outputs": [],
   "source": [
    "main_threads()"
   ]
  },
  {
   "cell_type": "markdown",
   "metadata": {
    "slideshow": {
     "slide_type": "subslide"
    }
   },
   "source": [
    "какво не беше наред с картинката?"
   ]
  },
  {
   "cell_type": "markdown",
   "metadata": {
    "slideshow": {
     "slide_type": "fragment"
    }
   },
   "source": [
    "* пуснахме >80 thread-а, за да обработим заявките"
   ]
  },
  {
   "cell_type": "markdown",
   "metadata": {
    "slideshow": {
     "slide_type": "fragment"
    }
   },
   "source": [
    "* всички пишат едновременно в променливата `webservers`"
   ]
  },
  {
   "cell_type": "markdown",
   "metadata": {
    "slideshow": {
     "slide_type": "fragment"
    }
   },
   "source": [
    "* . . . и още малко други :о)"
   ]
  },
  {
   "cell_type": "markdown",
   "metadata": {
    "slideshow": {
     "slide_type": "subslide"
    }
   },
   "source": [
    "##### втори опит, с малко подобрения"
   ]
  },
  {
   "cell_type": "code",
   "execution_count": 126,
   "metadata": {
    "collapsed": true
   },
   "outputs": [],
   "source": [
    "import socket\n",
    "import time\n",
    "from threading import Thread, Lock, BoundedSemaphore\n",
    "from collections import Counter\n",
    "from bg_webservers_common import get_hosts, HTTP_REQUEST_TEMPLATE, detect_webserver_from_response\n",
    "\n",
    "def main_threads_improved():\n",
    "    webservers = Counter()\n",
    "    t = time.time()\n",
    "    lock = Lock()\n",
    "    semaphore = BoundedSemaphore(10)\n",
    "    threads = []\n",
    "    for host in get_hosts():\n",
    "        thread = Thread(target=get_webserver_for_host, args=(host, webservers, lock, semaphore))\n",
    "        thread.start()\n",
    "        threads.append(thread)\n",
    "\n",
    "    for thread in threads:\n",
    "        thread.join()\n",
    "    print(\"Done in {}sec\".format(time.time() - t))\n",
    "    print(str(webservers))\n",
    "\n",
    "\n",
    "def get_webserver_for_host(hostname: str, webservers: Counter, lock: Lock, semaphore: BoundedSemaphore):\n",
    "    with semaphore:\n",
    "        connection = socket.create_connection((hostname, 80), timeout=5)\n",
    "        http_request_string = HTTP_REQUEST_TEMPLATE.format(hostname)\n",
    "        connection.send(http_request_string.encode())\n",
    "        result = connection.recv(2048)\n",
    "        server = detect_webserver_from_response(result)\n",
    "        connection.close()\n",
    "    with lock:\n",
    "        webservers[server] += 1\n",
    "    print(\"Completed: {}\".format(hostname))\n"
   ]
  },
  {
   "cell_type": "code",
   "execution_count": null,
   "metadata": {
    "collapsed": true
   },
   "outputs": [],
   "source": [
    "main_threads_improved()"
   ]
  },
  {
   "cell_type": "markdown",
   "metadata": {
    "slideshow": {
     "slide_type": "subslide"
    }
   },
   "source": [
    "![използване на threads](resources/diagram-tasks-threaded.png)"
   ]
  },
  {
   "cell_type": "markdown",
   "metadata": {
    "slideshow": {
     "slide_type": "slide"
    }
   },
   "source": [
    "## асинхронно програмиране\n",
    "\n",
    "&nbsp;\n",
    "\n",
    "> Кодът се извиква при настъпване на събитие, вместо активно да проверява за наличие на такова"
   ]
  },
  {
   "cell_type": "markdown",
   "metadata": {
    "slideshow": {
     "slide_type": "subslide"
    }
   },
   "source": [
    "![асинхронен вариант](resources/diagram-tasks-callbacks.png)"
   ]
  },
  {
   "cell_type": "markdown",
   "metadata": {
    "slideshow": {
     "slide_type": "subslide"
    }
   },
   "source": [
    "### Event loop\n",
    "\n",
    "![Event loop](resources/diagram-eventloop.png)"
   ]
  },
  {
   "cell_type": "markdown",
   "metadata": {
    "slideshow": {
     "slide_type": "subslide"
    }
   },
   "source": [
    "## Кога е подходящо?\n",
    "\n",
    "&nbsp;\n",
    "\n",
    "При приложения, които основно извършват входно/изходни операции - мрежа, управление на външни процеси, сървърни приложения и други."
   ]
  },
  {
   "cell_type": "markdown",
   "metadata": {
    "slideshow": {
     "slide_type": "slide"
    }
   },
   "source": [
    "## Възможни подходи за реализация"
   ]
  },
  {
   "cell_type": "markdown",
   "metadata": {
    "slideshow": {
     "slide_type": "subslide"
    }
   },
   "source": [
    "### \"Callback hell\"\n",
    "![Callback hell](resources/callback-hell.png)"
   ]
  },
  {
   "cell_type": "markdown",
   "metadata": {
    "slideshow": {
     "slide_type": "subslide"
    }
   },
   "source": [
    "### ... и неговите разновидности\n",
    "\n",
    "&nbsp;\n",
    "\n",
    "http://stackabuse.com/avoiding-callback-hell-in-node-js/ \n",
    "\n",
    "&nbsp;\n",
    "\n",
    "> \"Design around it\"  :o)"
   ]
  },
  {
   "cell_type": "markdown",
   "metadata": {
    "slideshow": {
     "slide_type": "subslide"
    }
   },
   "source": [
    "##### \"Define your functions beforehand\" \n",
    "\n",
    "``` javascript\n",
    "var fs = require('fs');\n",
    "\n",
    "function notifyUser(err) {  \n",
    "    if(err) return console.log(err);\n",
    "    console.log('Appended text!');\n",
    "};\n",
    "\n",
    "function appendText(err, txt) {  \n",
    "    if (err) return console.log(err);\n",
    "\n",
    "    txt = txt + '\\nAppended something!';\n",
    "    fs.writeFile(myFile, txt, notifyUser);\n",
    "}\n",
    "\n",
    "var dataFile = '/tmp/test';  \n",
    "fs.readFile(dataFile, 'utf8', appendText);  \n",
    "```"
   ]
  },
  {
   "cell_type": "markdown",
   "metadata": {
    "slideshow": {
     "slide_type": "subslide"
    }
   },
   "source": [
    "##### Async.js\n",
    "\n",
    "``` javascript\n",
    "var fs = require('fs');  \n",
    "var async = require('async');\n",
    "\n",
    "var myFile = '/tmp/test';\n",
    "\n",
    "async.waterfall([  \n",
    "    function(callback) {\n",
    "        fs.readFile(myFile, 'utf8', callback);\n",
    "    },\n",
    "    function(txt, callback) {\n",
    "        txt = txt + '\\nAppended something!';\n",
    "        fs.writeFile(myFile, txt, callback);\n",
    "    }\n",
    "], function (err, result) {\n",
    "    if(err) return console.log(err);\n",
    "    console.log('Appended text!');\n",
    "});\n",
    "```"
   ]
  },
  {
   "cell_type": "markdown",
   "metadata": {
    "slideshow": {
     "slide_type": "subslide"
    }
   },
   "source": [
    "##### Promises\n",
    "``` javascript\n",
    "var Promise = require('bluebird');  \n",
    "var fs = require('fs');  \n",
    "Promise.promisifyAll(fs);\n",
    "\n",
    "var myFile = '/tmp/test';  \n",
    "fs.readFileAsync(myFile, 'utf8').then(function(txt) {  \n",
    "    txt = txt + '\\nAppended something!';\n",
    "    fs.writeFile(myFile, txt);\n",
    "}).then(function() {\n",
    "    console.log('Appended text!');\n",
    "}).catch(function(err) {\n",
    "    console.log(err);\n",
    "});\n",
    "```"
   ]
  },
  {
   "cell_type": "markdown",
   "metadata": {
    "slideshow": {
     "slide_type": "subslide"
    }
   },
   "source": [
    "а по-четимо не може ли ... ??"
   ]
  },
  {
   "cell_type": "markdown",
   "metadata": {
    "slideshow": {
     "slide_type": "slide"
    }
   },
   "source": [
    "## варианти за асинхронно програмиране с Python\n",
    "\n",
    "* asyncio - Python 3.3+\n",
    "* Tornado - Python 2 & 3\n",
    "* Twisted - Python 2 & 3\n",
    "* gevent - Python 2 & 3\n",
    "* plain sockets with setblocking(0) - Python 2 & 3\n",
    "* libuv, eventlet, trollius (asyncio за Python 2)\n",
    "* Autobahn|Python, pulsar, diesel, weightless\n",
    "* . . . "
   ]
  },
  {
   "cell_type": "markdown",
   "metadata": {
    "slideshow": {
     "slide_type": "slide"
    }
   },
   "source": [
    "#### asyncio"
   ]
  },
  {
   "cell_type": "code",
   "execution_count": null,
   "metadata": {
    "collapsed": false,
    "scrolled": false
   },
   "outputs": [],
   "source": [
    "import asyncio\n",
    "import time\n",
    "from collections import Counter\n",
    "\n",
    "@asyncio.coroutine\n",
    "def get_webserver_for_host(hostname: str, webservers: Counter):\n",
    "    reader, writer = yield from asyncio.open_connection(host=hostname, port=80)\n",
    "    http_request_string = HTTP_REQUEST_TEMPLATE.format(hostname)\n",
    "    writer.write(http_request_string.encode())\n",
    "    response = yield from reader.read(2048)\n",
    "    server = detect_webserver_from_response(response)\n",
    "    webservers[server] += 1\n",
    "    writer.close()\n",
    "    print(\"Completed: {}\".format(hostname))\n",
    "\n",
    "@asyncio.coroutine\n",
    "def main_asyncio():\n",
    "    webservers = Counter()\n",
    "    running_coroutines = []\n",
    "    t = time.time()\n",
    "    for host in get_hosts():\n",
    "        c = get_webserver_for_host(host, webservers)\n",
    "        running_coroutines.append(c)\n",
    "\n",
    "    yield from asyncio.gather(*running_coroutines)\n",
    "    print(\"Done in {}sec\".format(time.time() - t))\n",
    "    print(str(webservers))"
   ]
  },
  {
   "cell_type": "code",
   "execution_count": null,
   "metadata": {
    "collapsed": false,
    "scrolled": false
   },
   "outputs": [],
   "source": [
    "asyncio.get_event_loop().run_until_complete(main_asyncio())"
   ]
  },
  {
   "cell_type": "markdown",
   "metadata": {
    "collapsed": true,
    "slideshow": {
     "slide_type": "slide"
    }
   },
   "source": [
    "### event loop, yield, какво ... ?"
   ]
  },
  {
   "cell_type": "markdown",
   "metadata": {
    "collapsed": true,
    "scrolled": false,
    "slideshow": {
     "slide_type": "subslide"
    }
   },
   "source": [
    "![асинхронен вариант](resources/diagram-tasks-callbacks.png)"
   ]
  },
  {
   "cell_type": "markdown",
   "metadata": {
    "slideshow": {
     "slide_type": "subslide"
    }
   },
   "source": [
    "## event loop\n",
    "\n",
    "&nbsp;\n",
    "\n",
    "![Event loop](resources/diagram-eventloop.png)"
   ]
  },
  {
   "cell_type": "markdown",
   "metadata": {
    "slideshow": {
     "slide_type": "subslide"
    }
   },
   "source": [
    "### екстра, но няма ли пак да е камара от callbacks?\n",
    "\n",
    "&nbsp;\n",
    "\n",
    "&nbsp;\n",
    "\n",
    "> Да, ще е :о)\n"
   ]
  },
  {
   "cell_type": "markdown",
   "metadata": {
    "slideshow": {
     "slide_type": "slide"
    }
   },
   "source": [
    "### генератори"
   ]
  },
  {
   "cell_type": "markdown",
   "metadata": {},
   "source": [
    "![диаграма за генератор](resources/diagram-generator.png)"
   ]
  },
  {
   "cell_type": "markdown",
   "metadata": {
    "slideshow": {
     "slide_type": "-"
    }
   },
   "source": [
    "измислени през 1975 с езика CLU (Wikipedia)"
   ]
  },
  {
   "cell_type": "markdown",
   "metadata": {
    "slideshow": {
     "slide_type": "fragment"
    }
   },
   "source": [
    "> Ей на, видé ли - казáх ти, че след 70-те години нищо ново не са измислили!\n",
    ">\n",
    "> -- известен автор"
   ]
  },
  {
   "cell_type": "markdown",
   "metadata": {
    "slideshow": {
     "slide_type": "subslide"
    }
   },
   "source": [
    "### пример за генератор\n",
    "\n",
    "&nbsp; \n",
    "\n",
    "От файла **bgsites-short.txt** трябва да извлечем всички некоментирани редове\n",
    "\n",
    "    vbox7.com\n",
    "    # tyxo.bg\n",
    "    vesti.bg\n",
    "    # unacs.bg\n",
    "    zamunda.net"
   ]
  },
  {
   "cell_type": "code",
   "execution_count": null,
   "metadata": {
    "collapsed": true,
    "slideshow": {
     "slide_type": "subslide"
    }
   },
   "outputs": [],
   "source": [
    "PROJECT_PATH = '/Users/boris/Work/softuni/2015-09-AsyncPython/source/asyncio'\n",
    "# . . .\n",
    "def get_all_hosts():\n",
    "    result = []\n",
    "    with open(PROJECT_PATH + '/bgsites-short.txt', 'r') as f:\n",
    "        for host in f:\n",
    "            host = host.strip()\n",
    "            if not host.startswith('#'):\n",
    "                result.append(host)\n",
    "    return result"
   ]
  },
  {
   "cell_type": "code",
   "execution_count": null,
   "metadata": {
    "collapsed": false
   },
   "outputs": [],
   "source": [
    "for h in get_all_hosts():\n",
    "    print(\"Received: \", h)"
   ]
  },
  {
   "cell_type": "code",
   "execution_count": null,
   "metadata": {
    "collapsed": false
   },
   "outputs": [],
   "source": [
    "get_all_hosts()"
   ]
  },
  {
   "cell_type": "code",
   "execution_count": null,
   "metadata": {
    "collapsed": true,
    "slideshow": {
     "slide_type": "subslide"
    }
   },
   "outputs": [],
   "source": [
    "PROJECT_PATH = '/Users/boris/Work/softuni/2015-09-AsyncPython/source/asyncio'\n",
    "# . . .\n",
    "def get_hosts():\n",
    "    print(\"Entering the generator ...\")\n",
    "    with open(PROJECT_PATH + '/bgsites-short.txt', 'r') as f:\n",
    "        for host in f:\n",
    "            host = host.strip()\n",
    "            print(\"Read: \", host)\n",
    "            if not host.startswith('#'):\n",
    "                yield host"
   ]
  },
  {
   "cell_type": "code",
   "execution_count": null,
   "metadata": {
    "collapsed": false
   },
   "outputs": [],
   "source": [
    "for h in get_hosts():\n",
    "    print(\"Received: \", h)"
   ]
  },
  {
   "cell_type": "code",
   "execution_count": null,
   "metadata": {
    "collapsed": false,
    "slideshow": {
     "slide_type": "fragment"
    }
   },
   "outputs": [],
   "source": [
    "g = get_hosts()\n",
    "g"
   ]
  },
  {
   "cell_type": "code",
   "execution_count": null,
   "metadata": {
    "collapsed": false,
    "slideshow": {
     "slide_type": "fragment"
    }
   },
   "outputs": [],
   "source": [
    "next(g)"
   ]
  },
  {
   "cell_type": "markdown",
   "metadata": {
    "slideshow": {
     "slide_type": "subslide"
    }
   },
   "source": [
    "#### генератор-функция и генератор-обект"
   ]
  },
  {
   "cell_type": "code",
   "execution_count": null,
   "metadata": {
    "collapsed": false
   },
   "outputs": [],
   "source": [
    "get_hosts"
   ]
  },
  {
   "cell_type": "code",
   "execution_count": null,
   "metadata": {
    "collapsed": false
   },
   "outputs": [],
   "source": [
    "get_hosts()"
   ]
  },
  {
   "cell_type": "markdown",
   "metadata": {
    "slideshow": {
     "slide_type": "subslide"
    }
   },
   "source": [
    "#### как могат да се използват, за да опростим асинхронното програмиране?\n",
    "\n",
    "&nbsp;\n",
    "\n",
    "| генератори | асинхронни задачи |\n",
    "| ---------- | ----------------- |\n",
    "| генераторът **не започва изпълнение** на функцията, докато не бъде извикан next() | задачата **не трябва да започва изпълнение**, докато event loop не я стартира |\n",
    "| след yield на стойност, генераторът **\"замразява\" изпълнението** на функцията, докато не бъде извикан отново next() | когато задачата трябва да изпълни I/O операция, трябва да **\"замрази\" изпълнението си**, и да даде възможност на други задачи да работят, докато се чака резултата от I/O операцията |\n"
   ]
  },
  {
   "cell_type": "code",
   "execution_count": null,
   "metadata": {
    "collapsed": true,
    "slideshow": {
     "slide_type": "subslide"
    }
   },
   "outputs": [],
   "source": [
    "@asyncio.coroutine\n",
    "def get_webserver_for_host(hostname: str, webservers: Counter):\n",
    "    reader, writer = yield from asyncio.open_connection(host=hostname, port=80)\n",
    "    http_request_string = HTTP_REQUEST_TEMPLATE.format(hostname)\n",
    "    writer.write(http_request_string.encode())\n",
    "    response = yield from reader.read(2048)\n",
    "    server = detect_webserver_from_response(response)\n",
    "    webservers[server] += 1\n",
    "    writer.close()\n",
    "    print(\"Completed: {}\".format(hostname))"
   ]
  },
  {
   "cell_type": "markdown",
   "metadata": {
    "slideshow": {
     "slide_type": "subslide"
    }
   },
   "source": [
    "през **2005** с Python 2.5 разширяват генераторите в езика, за да могат да се използват за и асинхронно програмиране (PEP-342)\n",
    "\n",
    "* възможност за предаване на стойност от извикващия към генератора\n",
    "``` python\n",
    "response = yield from reader.read(2048)\n",
    "```\n",
    "\n",
    "* възможност за предаване на exceptions от извикващия към генератора\n",
    "```\n",
    "ако има проблем, read() или open_connection() ще хвърлят exception на мястото, където е извикан yield\n",
    "```"
   ]
  },
  {
   "cell_type": "markdown",
   "metadata": {
    "slideshow": {
     "slide_type": "subslide"
    }
   },
   "source": [
    "веднага пример"
   ]
  },
  {
   "cell_type": "code",
   "execution_count": null,
   "metadata": {
    "collapsed": true
   },
   "outputs": [],
   "source": [
    "def generate_multiples(n: int, multiply_by: int=2):\n",
    "    while True:\n",
    "        try:\n",
    "            n = n * multiply_by\n",
    "            new_multiply_by = yield n\n",
    "            if new_multiply_by:\n",
    "                multiply_by = new_multiply_by\n",
    "        except Exception as e:\n",
    "            print(\"Something went wrong: \" + str(e))"
   ]
  },
  {
   "cell_type": "code",
   "execution_count": null,
   "metadata": {
    "collapsed": false
   },
   "outputs": [],
   "source": [
    "g = generate_multiples(1)\n",
    "g"
   ]
  },
  {
   "cell_type": "code",
   "execution_count": null,
   "metadata": {
    "collapsed": false
   },
   "outputs": [],
   "source": [
    "next(g)"
   ]
  },
  {
   "cell_type": "code",
   "execution_count": null,
   "metadata": {
    "collapsed": false
   },
   "outputs": [],
   "source": [
    "g.send(3)"
   ]
  },
  {
   "cell_type": "code",
   "execution_count": null,
   "metadata": {
    "collapsed": false
   },
   "outputs": [],
   "source": [
    "next(g)"
   ]
  },
  {
   "cell_type": "code",
   "execution_count": null,
   "metadata": {
    "collapsed": false
   },
   "outputs": [],
   "source": [
    "g.throw(ValueError(\"Stop it already!\"))"
   ]
  },
  {
   "cell_type": "markdown",
   "metadata": {
    "slideshow": {
     "slide_type": "slide"
    }
   },
   "source": [
    "####  ... а \"coroutines\" ?\n",
    "\n",
    "&nbsp;\n",
    "\n",
    "> cooperative routines\n",
    "\n",
    "&nbsp;\n",
    "\n",
    "* позволяват \"паралелно\" изпълнение на няколко операции\n",
    "* програмистът решава кога е ОК да се \"замрази\" изпълнението на функцията (за разлика от threads)\n",
    "* . . .\n",
    "* заемат много малко ресурси\n",
    "* в Python са реализирани като генератори"
   ]
  },
  {
   "cell_type": "code",
   "execution_count": null,
   "metadata": {
    "collapsed": true,
    "slideshow": {
     "slide_type": "subslide"
    }
   },
   "outputs": [],
   "source": [
    "@asyncio.coroutine\n",
    "def get_webserver_for_host(hostname: str, webservers: Counter):\n",
    "    reader, writer = yield from asyncio.open_connection(host=hostname, port=80)\n",
    "    http_request_string = HTTP_REQUEST_TEMPLATE.format(hostname)\n",
    "    writer.write(http_request_string.encode())\n",
    "    response = yield from reader.read(2048)\n",
    "    server = detect_webserver_from_response(response)\n",
    "    webservers[server] += 1\n",
    "    writer.close()\n",
    "    print(\"Completed: {}\".format(hostname))"
   ]
  },
  {
   "cell_type": "markdown",
   "metadata": {},
   "source": [
    "тъй като е генератор, не започва изпълнение, докато не е scheduled за изпълнение в event loop\n",
    "``` python\n",
    "loop = asyncio.get_event_loop()\n",
    "loop.run_until_complete(\n",
    "    get_webserver_for_host(\"softuni.bg\", Counter())\n",
    ")\n",
    "```\n",
    "или\n",
    "``` python\n",
    "loop.create_task(\n",
    "    get_webserver_for_host(\"softuni.bg\", Counter())\n",
    ")\n",
    "```"
   ]
  },
  {
   "cell_type": "markdown",
   "metadata": {
    "slideshow": {
     "slide_type": "slide"
    }
   },
   "source": [
    "### Future, Task & coroutine\n",
    "\n",
    "&nbsp;\n",
    "\n",
    "* **Future** - резултат, който ще бъде получен в бъдеще (подобно на Promise)\n",
    "\n",
    "&nbsp;\n",
    "\n",
    "* **Task** - обект, отговорен да изпълни coroutine в текущия event loop"
   ]
  },
  {
   "cell_type": "code",
   "execution_count": null,
   "metadata": {
    "collapsed": false,
    "slideshow": {
     "slide_type": "subslide"
    }
   },
   "outputs": [],
   "source": [
    "import asyncio\n",
    "\n",
    "@asyncio.coroutine\n",
    "def co_1():\n",
    "    print(\"in co_1\")\n",
    "\n",
    "@asyncio.coroutine\n",
    "def co_2():\n",
    "    print(\"in co_2\")\n",
    "\n",
    "@asyncio.coroutine\n",
    "def co_3():\n",
    "    print(\"in co_3\")\n",
    "\n",
    "@asyncio.coroutine\n",
    "def main():\n",
    "    co_1()\n",
    "    yield from co_2()\n",
    "    asyncio.async(co_3())  # creates a Task instance & schedules in event loop\n",
    "    print(\"in main\")\n",
    "\n",
    "asyncio.get_event_loop().run_until_complete(main())"
   ]
  },
  {
   "cell_type": "code",
   "execution_count": null,
   "metadata": {
    "collapsed": false,
    "slideshow": {
     "slide_type": "slide"
    }
   },
   "outputs": [],
   "source": [
    "import asyncio\n",
    "import time\n",
    "from collections import Counter\n",
    "\n",
    "@asyncio.coroutine\n",
    "def get_webserver_for_host(hostname: str, webservers: Counter):\n",
    "    reader, writer = yield from asyncio.open_connection(host=hostname, port=80)\n",
    "    http_request_string = HTTP_REQUEST_TEMPLATE.format(hostname)\n",
    "    writer.write(http_request_string.encode())\n",
    "    response = yield from reader.read(2048)\n",
    "    server = detect_webserver_from_response(response)\n",
    "    webservers[server] += 1\n",
    "    writer.close()\n",
    "    print(\"Completed: {}\".format(hostname))\n",
    "\n",
    "@asyncio.coroutine\n",
    "def main_asyncio():\n",
    "    webservers = Counter()\n",
    "    running_coroutines = []\n",
    "    t = time.time()\n",
    "    for host in get_hosts():\n",
    "        c = get_webserver_for_host(host, webservers)\n",
    "        running_coroutines.append(c)\n",
    "\n",
    "    yield from asyncio.gather(*running_coroutines)\n",
    "    print(\"Done in {}sec\".format(time.time() - t))\n",
    "    print(str(webservers))\n",
    "\n",
    "asyncio.get_event_loop().run_until_complete(main_asyncio())"
   ]
  },
  {
   "cell_type": "markdown",
   "metadata": {
    "slideshow": {
     "slide_type": "slide"
    }
   },
   "source": [
    "## python 3.5\n",
    "\n",
    "&nbsp;\n",
    "\n",
    "нови ключови думи за улеснение на асинхронно програмиране\n",
    "\n",
    "* **async** - указва, че функция, for-loop или with изпълняват с асинхронни операции\n",
    "\n",
    "&nbsp;\n",
    "\n",
    "* **await** - вместо `yield` и `yield from` ; не може да се използва извън `async` функция"
   ]
  },
  {
   "cell_type": "markdown",
   "metadata": {},
   "source": [
    "``` python\n",
    "async def get_webserver_for_host(hostname: str, webservers: Counter):\n",
    "    reader, writer =   await   asyncio.open_connection(host=hostname, port=80)\n",
    "    http_request_string = HTTP_REQUEST_TEMPLATE.format(hostname)\n",
    "    writer.write(http_request_string.encode())\n",
    "    response =   await   reader.read(2048)\n",
    "    server = detect_webserver_from_response(response)\n",
    "    webservers[server] += 1\n",
    "    writer.close()\n",
    "    print(\"Completed: {}\".format(hostname))\n",
    "\n",
    "async def main_asyncio():\n",
    "    webservers = Counter()\n",
    "    running_coroutines = []\n",
    "    t = time.time()\n",
    "    for host in get_hosts():\n",
    "        c = get_webserver_for_host(host, webservers)\n",
    "        running_coroutines.append(c)\n",
    "\n",
    "    await  asyncio.gather(*running_coroutines)\n",
    "\n",
    "asyncio.get_event_loop().run_until_complete(main_asyncio())\n",
    "```"
   ]
  },
  {
   "cell_type": "markdown",
   "metadata": {
    "slideshow": {
     "slide_type": "slide"
    }
   },
   "source": [
    "###  eкстра, а Python 2  ??\n",
    "\n",
    "&nbsp;\n",
    "\n",
    "* trollius - порт на  asyncio за Python 2.6+\n",
    "\n",
    "&nbsp;\n",
    "\n",
    "* Tornado, Twisted, gevent, . . .\n",
    "\n",
    "&nbsp;\n",
    "\n",
    "базирани на основната идея - event loop & coroutines"
   ]
  },
  {
   "cell_type": "markdown",
   "metadata": {
    "slideshow": {
     "slide_type": "slide"
    }
   },
   "source": [
    "### използване на няколко async libraries/frameworks\n",
    "\n",
    "&nbsp;\n",
    "\n",
    "Event loop е интерфейс -> един lib може да работи върху event loop на друг \n",
    "\n",
    "* Twisted може да работи върху event loop на Qt, asyncio, . . .\n",
    "* Tornado може да работи върху event loop на asyncio\n",
    "* asyncio може да работи върху event loop на Qt, libuv, . . . \n",
    "* . . . \n"
   ]
  },
  {
   "cell_type": "markdown",
   "metadata": {
    "slideshow": {
     "slide_type": "slide"
    }
   },
   "source": [
    "### използване на код, който не е написан асинхронно\n",
    "\n"
   ]
  },
  {
   "cell_type": "code",
   "execution_count": null,
   "metadata": {
    "collapsed": false
   },
   "outputs": [],
   "source": [
    "import asyncio\n",
    "from concurrent.futures import ThreadPoolExecutor\n",
    "\n",
    "def do_some_computations(n):\n",
    "    result = 0\n",
    "    for x in range(n**2):\n",
    "        for y in range(n**2):\n",
    "            result += (x+1)**2 / (y+1)**3\n",
    "    return result\n",
    "\n",
    "@asyncio.coroutine\n",
    "def do_something_async():\n",
    "    print(\"Async operation started\")\n",
    "    yield from asyncio.sleep(2)\n",
    "    print(\"Async operation completed\")\n",
    "\n",
    "loop = asyncio.get_event_loop()\n",
    "loop.set_default_executor(ThreadPoolExecutor(max_workers=1))\n",
    "loop.run_until_complete(\n",
    "    asyncio.gather(\n",
    "        loop.run_in_executor(None, do_some_computations, 40),\n",
    "        do_something_async()\n",
    "    )\n",
    ")"
   ]
  },
  {
   "cell_type": "markdown",
   "metadata": {},
   "source": [
    "Tornado, Twisted и останалите библиотеки имат подобни механизми -  run_in_executor()\n",
    "\n",
    "`ThreadPoolExecutor` & `ProcessPoolExecutor`"
   ]
  },
  {
   "cell_type": "markdown",
   "metadata": {
    "slideshow": {
     "slide_type": "slide"
    }
   },
   "source": [
    "### a  web ... ?\n",
    "\n",
    "пример за web приложение с Tornado\n",
    "\n",
    "&nbsp;"
   ]
  },
  {
   "cell_type": "markdown",
   "metadata": {
    "slideshow": {
     "slide_type": "slide"
    }
   },
   "source": [
    "## накратко, това е :о)\n",
    "\n",
    "&nbsp;\n",
    "\n",
    "> Email: boris.chervenkov@gmail.com\n",
    "\n",
    "> Twitter: @b_chervenkov\n",
    "\n",
    "> Github: [http://bit.ly/async-python](http://bit.ly/async-python)"
   ]
  }
 ],
 "metadata": {
  "celltoolbar": "Slideshow",
  "kernelspec": {
   "display_name": "Python 3",
   "language": "python",
   "name": "python3"
  },
  "language_info": {
   "codemirror_mode": {
    "name": "ipython",
    "version": 3
   },
   "file_extension": ".py",
   "mimetype": "text/x-python",
   "name": "python",
   "nbconvert_exporter": "python",
   "pygments_lexer": "ipython3",
   "version": "3.4.2"
  },
  "livereveal": {
   "theme": "simple"
  }
 },
 "nbformat": 4,
 "nbformat_minor": 0
}
